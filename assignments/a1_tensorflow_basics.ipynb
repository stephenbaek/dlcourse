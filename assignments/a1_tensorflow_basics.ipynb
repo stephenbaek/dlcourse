{
 "metadata": {
  "language_info": {
   "codemirror_mode": {
    "name": "ipython",
    "version": 3
   },
   "file_extension": ".py",
   "mimetype": "text/x-python",
   "name": "python",
   "nbconvert_exporter": "python",
   "pygments_lexer": "ipython3",
   "version": "3.8.5-final"
  },
  "orig_nbformat": 2,
  "kernelspec": {
   "name": "python3",
   "display_name": "Python 3",
   "language": "python"
  }
 },
 "nbformat": 4,
 "nbformat_minor": 2,
 "cells": [
  {
   "source": [
    "# Assignment 1\n",
    "\n",
    "This is your first homework assignment. Answer the questions below by implementing a TensorFlow code. Please make a copy of this notebook and provide your answers in there."
   ],
   "cell_type": "markdown",
   "metadata": {}
  },
  {
   "source": [
    "### Question 1. Import TensorFlow (1 pt)\n",
    "Write a line to import TensorFlow module with an alias `tf`."
   ],
   "cell_type": "markdown",
   "metadata": {}
  },
  {
   "cell_type": "code",
   "execution_count": null,
   "metadata": {},
   "outputs": [],
   "source": [
    "# PROVIDE YOUR ANSWER HERE"
   ]
  },
  {
   "source": [
    "### Question 2-1. (2 pt)\n",
    "Create two random tensors `x` and `y` of rank 0. The random values should be drawn from uniform distribution."
   ],
   "cell_type": "markdown",
   "metadata": {}
  },
  {
   "cell_type": "code",
   "execution_count": null,
   "metadata": {},
   "outputs": [],
   "source": [
    "# PROVIDE YOUR ANSWER HERE"
   ]
  },
  {
   "source": [
    "### Question 2-2. (3 pt)\n",
    "Define a TensorFlow op that returns `x+y` if `x > y`, and `x*y` otherwise. (Hint: look up `tf.cond()`, `tf.greater()`)"
   ],
   "cell_type": "markdown",
   "metadata": {}
  },
  {
   "cell_type": "code",
   "execution_count": null,
   "metadata": {},
   "outputs": [],
   "source": [
    "# PROVIDE YOUR ANSWER HERE"
   ]
  },
  {
   "source": [
    "### Question 3-1. (2 pt)\n",
    "\n",
    "Create a rank 2 tensor `X` of shape `(2, 3)`, whose elements are uniform random values from the range $[-1, 1)$."
   ],
   "cell_type": "markdown",
   "metadata": {}
  },
  {
   "cell_type": "code",
   "execution_count": null,
   "metadata": {},
   "outputs": [],
   "source": [
    "# PROVIDE YOUR ANSWER HERE"
   ]
  },
  {
   "source": [
    "### Question 3-2. (2 pt)\n",
    "Create a rank 2 tensor `Y` with the same shape as `X` above but filled with zeros. (Hint: look up `tf.zeros_like()`)"
   ],
   "cell_type": "markdown",
   "metadata": {}
  },
  {
   "cell_type": "code",
   "execution_count": null,
   "metadata": {},
   "outputs": [],
   "source": [
    "# PROVIDE YOUR ANSWER HERE"
   ]
  },
  {
   "source": [
    "### Question 3-3. (3 pt)\n",
    "Return a Boolean tensor that yields `True` if $x_{i,j} < y_{i,j}$."
   ],
   "cell_type": "markdown",
   "metadata": {}
  },
  {
   "cell_type": "code",
   "execution_count": null,
   "metadata": {},
   "outputs": [],
   "source": [
    "# PROVIDE YOUR ANSWER HERE"
   ]
  },
  {
   "source": [
    "### Question 3-4. (3 pt)\n",
    "\n",
    "Get the indices of elements in `X` whose values are greater than 20 (Hint: look up `tf.where()`) and then extract those elements (Hint: look up `tf.gather_nd()`)."
   ],
   "cell_type": "markdown",
   "metadata": {}
  },
  {
   "cell_type": "code",
   "execution_count": null,
   "metadata": {},
   "outputs": [],
   "source": [
    "# PROVIDE YOUR ANSWER HERE"
   ]
  },
  {
   "source": [
    "### Question 4. (3 pt)\n",
    "\n",
    "Create a diagonal matrix (rank 2 tensor) of shape `(10, 10)` whose diagnoal entries are 1, 2, ..., 10. (Hint: `tf.range()` & `tf.diag()`)"
   ],
   "cell_type": "markdown",
   "metadata": {}
  },
  {
   "cell_type": "code",
   "execution_count": null,
   "metadata": {},
   "outputs": [],
   "source": [
    "# PROVIDE YOUR ANSWER HERE"
   ]
  },
  {
   "source": [
    "### Question 5. (3 pt)\n",
    "\n",
    "Create a random 2D tensor of size 15 x 15 from Gaussian distribution $\\mathcal{N}(1, 0.5)$ and compute its determinant. (Hint: `tf.random.normal()` & `tf.linalg.det()`)"
   ],
   "cell_type": "markdown",
   "metadata": {}
  },
  {
   "cell_type": "code",
   "execution_count": null,
   "metadata": {},
   "outputs": [],
   "source": [
    "# PROVIDE YOUR ANSWER HERE"
   ]
  },
  {
   "source": [
    "### Question 6. (3 pt)\n",
    "Find the unique elements in `x` below. (Hint: tf.unique())"
   ],
   "cell_type": "markdown",
   "metadata": {}
  },
  {
   "cell_type": "code",
   "execution_count": null,
   "metadata": {},
   "outputs": [],
   "source": [
    "x = tf.constant([3, 7, 1, 2, 3, 4, 10, 2, 8, 6, 9, 3, 7, 2, 1, 6, 7], dtype=tf.int32)\n",
    "# PROVIDE YOUR ANSWER HERE"
   ]
  }
 ]
}